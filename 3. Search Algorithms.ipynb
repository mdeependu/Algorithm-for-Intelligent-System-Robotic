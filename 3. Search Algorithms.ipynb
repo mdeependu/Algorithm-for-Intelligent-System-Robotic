{
 "cells": [
  {
   "cell_type": "code",
   "execution_count": 6,
   "id": "conscious-small",
   "metadata": {},
   "outputs": [
    {
     "name": "stdout",
     "output_type": "stream",
     "text": [
      "['d', 'e', 'e', 'p', 'e', 'n', 'd', 'u']\n",
      "Enter element to find index: n\n",
      "Element found at index 5\n"
     ]
    }
   ],
   "source": [
    "arr = ['d','e','e','p','e','n','d','u']\n",
    "print(arr)\n",
    "x = input(\"Enter element to find index: \")\n",
    "\n",
    "for i in range(len(arr)):\n",
    "      if arr[i] == x:\n",
    "            print(\"Element found at index\",i)"
   ]
  },
  {
   "cell_type": "code",
   "execution_count": 1,
   "id": "listed-effect",
   "metadata": {},
   "outputs": [
    {
     "name": "stdout",
     "output_type": "stream",
     "text": [
      "[1, 7, 7, 2, 1, 9, 0, 6, 8]\n",
      "Enter element to find index: 0\n",
      "Element is at index 6\n"
     ]
    }
   ],
   "source": [
    "def binary_search(arr, low, high, x):\n",
    "    if high >= low:\n",
    "        mid = (high + low)\n",
    "        if arr[mid] == x:\n",
    "            return mid\n",
    "        \n",
    "        elif arr[mid] > x:\n",
    "            return binary_search(arr, low, mid - 1, x)\n",
    " \n",
    "        else:\n",
    "            return binary_search(arr, mid + 1, high, x)\n",
    " \n",
    "    else:\n",
    "        return -1\n",
    " \n",
    "\n",
    "arr=[1,7,7,2,1,9,0,6,8]\n",
    "print(arr)\n",
    "x=int(input(\"Enter element to find index: \"))\n",
    " \n",
    "res = binary_search(arr, 0, len(arr)-1, x)\n",
    " \n",
    "if res != -1:\n",
    "    print(\"Element is at index\",res)\n",
    "else:\n",
    "    print(\"Element not in array\")"
   ]
  },
  {
   "cell_type": "code",
   "execution_count": null,
   "id": "another-passport",
   "metadata": {},
   "outputs": [],
   "source": []
  }
 ],
 "metadata": {
  "kernelspec": {
   "display_name": "Python 3",
   "language": "python",
   "name": "python3"
  },
  "language_info": {
   "codemirror_mode": {
    "name": "ipython",
    "version": 3
   },
   "file_extension": ".py",
   "mimetype": "text/x-python",
   "name": "python",
   "nbconvert_exporter": "python",
   "pygments_lexer": "ipython3",
   "version": "3.8.3"
  }
 },
 "nbformat": 4,
 "nbformat_minor": 5
}
